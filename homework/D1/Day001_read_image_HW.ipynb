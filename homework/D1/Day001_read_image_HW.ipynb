{
 "cells": [
  {
   "cell_type": "markdown",
   "metadata": {},
   "source": [
    "# 作業\n",
    "\n",
    "思考一下我們前面有提到圖片是矩陣，但維度可能會不一樣\n",
    "例如灰階圖只有兩個維度，RGB 彩圖則有 3 個維度\n",
    "\n",
    "假如今天我們把 RGB 3 個維度拆開來看會有甚麼不同的效果呢？"
   ]
  },
  {
   "cell_type": "code",
   "execution_count": 2,
   "metadata": {
    "scrolled": false
   },
   "outputs": [],
   "source": [
    "import cv2\n",
    "\n",
    "import numpy as np\n",
    "\n",
    "img_path = 'C:/Users/dxcrab/Documents/GitHub/DL-CVMarathon/homework/lena.png'\n",
    "\n",
    "img_rgb = cv2.imread(img_path, cv2.IMREAD_COLOR)\n",
    "\n",
    "img_gray = cv2.imread(img_path, cv2.IMREAD_GRAYSCALE)\n",
    "\n",
    "cv2.imshow('rgb',img_rgb)\n",
    "\n",
    "cv2.imshow('gray',img_gray)\n",
    "\n",
    "cv2.waitKey (3000)\n",
    "\n",
    "\n",
    "\n",
    "\n",
    "(B,G,R) = cv2.split(img_rgb)\n",
    "\n",
    "cv2.imshow(\"Red\",R)\n",
    "\n",
    "cv2.imshow(\"Green\",G)\n",
    "\n",
    "cv2.imshow(\"Blue\",B)\n",
    "\n",
    "cv2.waitKey(3000)\n",
    "\n",
    "cv2.destroyAllWindows()"
   ]
  },
  {
   "cell_type": "code",
   "execution_count": null,
   "metadata": {},
   "outputs": [],
   "source": []
  }
 ],
 "metadata": {
  "kernelspec": {
   "display_name": "Python 3",
   "language": "python",
   "name": "python3"
  },
  "language_info": {
   "codemirror_mode": {
    "name": "ipython",
    "version": 3
   },
   "file_extension": ".py",
   "mimetype": "text/x-python",
   "name": "python",
   "nbconvert_exporter": "python",
   "pygments_lexer": "ipython3",
   "version": "3.7.6"
  }
 },
 "nbformat": 4,
 "nbformat_minor": 2
}
